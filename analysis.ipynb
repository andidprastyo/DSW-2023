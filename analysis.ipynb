{
 "cells": [
  {
   "cell_type": "markdown",
   "metadata": {},
   "source": [
    "### Import Libraries"
   ]
  },
  {
   "cell_type": "code",
   "execution_count": 43,
   "metadata": {},
   "outputs": [],
   "source": [
    "import pandas as pd\n",
    "\n",
    "# Logistic regression\n",
    "\n",
    "from sklearn.preprocessing import LabelEncoder, StandardScaler\n",
    "from sklearn.model_selection import train_test_split, GridSearchCV\n",
    "from sklearn.metrics import accuracy_score, classification_report, confusion_matrix\n",
    "from sklearn.linear_model import LogisticRegression\n",
    "\n",
    "# Neural Network\n",
    "from tensorflow.keras.models import Sequential\n",
    "from tensorflow.keras.layers import Dense, Dropout\n",
    "from tensorflow.keras.layers import BatchNormalization"
   ]
  },
  {
   "cell_type": "markdown",
   "metadata": {},
   "source": [
    "### Load Data"
   ]
  },
  {
   "cell_type": "code",
   "execution_count": 6,
   "metadata": {},
   "outputs": [],
   "source": [
    "df = pd.read_csv('./Assets/Datasets/Telco_Customer.csv')"
   ]
  },
  {
   "cell_type": "code",
   "execution_count": 7,
   "metadata": {},
   "outputs": [
    {
     "name": "stdout",
     "output_type": "stream",
     "text": [
      "<class 'pandas.core.frame.DataFrame'>\n",
      "RangeIndex: 7043 entries, 0 to 7042\n",
      "Data columns (total 16 columns):\n",
      " #   Column                        Non-Null Count  Dtype  \n",
      "---  ------                        --------------  -----  \n",
      " 0   Customer ID                   7043 non-null   int64  \n",
      " 1   Tenure Months                 7043 non-null   int64  \n",
      " 2   Location                      7043 non-null   object \n",
      " 3   Device Class                  7043 non-null   object \n",
      " 4   Games Product                 7043 non-null   object \n",
      " 5   Music Product                 7043 non-null   object \n",
      " 6   Education Product             7043 non-null   object \n",
      " 7   Call Center                   7043 non-null   object \n",
      " 8   Video Product                 7043 non-null   object \n",
      " 9   Use MyApp                     7043 non-null   object \n",
      " 10  Payment Method                7043 non-null   object \n",
      " 11  Monthly Purchase (Thou. IDR)  7043 non-null   float64\n",
      " 12  Churn Label                   7043 non-null   object \n",
      " 13  Longitude                     7043 non-null   float64\n",
      " 14  Latitude                      7043 non-null   float64\n",
      " 15  CLTV (Predicted Thou. IDR)    7043 non-null   float64\n",
      "dtypes: float64(4), int64(2), object(10)\n",
      "memory usage: 880.5+ KB\n"
     ]
    }
   ],
   "source": [
    "df.info()"
   ]
  },
  {
   "cell_type": "code",
   "execution_count": 8,
   "metadata": {},
   "outputs": [
    {
     "data": {
      "text/plain": [
       "(7043, 16)"
      ]
     },
     "execution_count": 8,
     "metadata": {},
     "output_type": "execute_result"
    }
   ],
   "source": [
    "df.shape"
   ]
  },
  {
   "cell_type": "code",
   "execution_count": 9,
   "metadata": {},
   "outputs": [
    {
     "data": {
      "text/html": [
       "<div>\n",
       "<style scoped>\n",
       "    .dataframe tbody tr th:only-of-type {\n",
       "        vertical-align: middle;\n",
       "    }\n",
       "\n",
       "    .dataframe tbody tr th {\n",
       "        vertical-align: top;\n",
       "    }\n",
       "\n",
       "    .dataframe thead th {\n",
       "        text-align: right;\n",
       "    }\n",
       "</style>\n",
       "<table border=\"1\" class=\"dataframe\">\n",
       "  <thead>\n",
       "    <tr style=\"text-align: right;\">\n",
       "      <th></th>\n",
       "      <th>Customer ID</th>\n",
       "      <th>Tenure Months</th>\n",
       "      <th>Monthly Purchase (Thou. IDR)</th>\n",
       "      <th>Longitude</th>\n",
       "      <th>Latitude</th>\n",
       "      <th>CLTV (Predicted Thou. IDR)</th>\n",
       "    </tr>\n",
       "  </thead>\n",
       "  <tbody>\n",
       "    <tr>\n",
       "      <th>count</th>\n",
       "      <td>7043.000000</td>\n",
       "      <td>7043.000000</td>\n",
       "      <td>7043.000000</td>\n",
       "      <td>7043.000000</td>\n",
       "      <td>7043.000000</td>\n",
       "      <td>7043.000000</td>\n",
       "    </tr>\n",
       "    <tr>\n",
       "      <th>mean</th>\n",
       "      <td>3521.000000</td>\n",
       "      <td>32.371149</td>\n",
       "      <td>84.190200</td>\n",
       "      <td>107.043249</td>\n",
       "      <td>-6.404182</td>\n",
       "      <td>5720.384481</td>\n",
       "    </tr>\n",
       "    <tr>\n",
       "      <th>std</th>\n",
       "      <td>2033.283305</td>\n",
       "      <td>24.559481</td>\n",
       "      <td>39.117061</td>\n",
       "      <td>0.358314</td>\n",
       "      <td>0.322896</td>\n",
       "      <td>1537.974298</td>\n",
       "    </tr>\n",
       "    <tr>\n",
       "      <th>min</th>\n",
       "      <td>0.000000</td>\n",
       "      <td>0.000000</td>\n",
       "      <td>23.725000</td>\n",
       "      <td>106.816670</td>\n",
       "      <td>-6.914740</td>\n",
       "      <td>2603.900000</td>\n",
       "    </tr>\n",
       "    <tr>\n",
       "      <th>25%</th>\n",
       "      <td>1760.500000</td>\n",
       "      <td>9.000000</td>\n",
       "      <td>46.150000</td>\n",
       "      <td>106.816670</td>\n",
       "      <td>-6.914740</td>\n",
       "      <td>4509.700000</td>\n",
       "    </tr>\n",
       "    <tr>\n",
       "      <th>50%</th>\n",
       "      <td>3521.000000</td>\n",
       "      <td>29.000000</td>\n",
       "      <td>91.455000</td>\n",
       "      <td>106.816670</td>\n",
       "      <td>-6.200000</td>\n",
       "      <td>5885.100000</td>\n",
       "    </tr>\n",
       "    <tr>\n",
       "      <th>75%</th>\n",
       "      <td>5281.500000</td>\n",
       "      <td>55.000000</td>\n",
       "      <td>116.805000</td>\n",
       "      <td>107.609810</td>\n",
       "      <td>-6.200000</td>\n",
       "      <td>6994.650000</td>\n",
       "    </tr>\n",
       "    <tr>\n",
       "      <th>max</th>\n",
       "      <td>7042.000000</td>\n",
       "      <td>72.000000</td>\n",
       "      <td>154.375000</td>\n",
       "      <td>107.609810</td>\n",
       "      <td>-6.200000</td>\n",
       "      <td>8450.000000</td>\n",
       "    </tr>\n",
       "  </tbody>\n",
       "</table>\n",
       "</div>"
      ],
      "text/plain": [
       "       Customer ID  Tenure Months  Monthly Purchase (Thou. IDR)    Longitude   \n",
       "count  7043.000000    7043.000000                   7043.000000  7043.000000  \\\n",
       "mean   3521.000000      32.371149                     84.190200   107.043249   \n",
       "std    2033.283305      24.559481                     39.117061     0.358314   \n",
       "min       0.000000       0.000000                     23.725000   106.816670   \n",
       "25%    1760.500000       9.000000                     46.150000   106.816670   \n",
       "50%    3521.000000      29.000000                     91.455000   106.816670   \n",
       "75%    5281.500000      55.000000                    116.805000   107.609810   \n",
       "max    7042.000000      72.000000                    154.375000   107.609810   \n",
       "\n",
       "          Latitude  CLTV (Predicted Thou. IDR)  \n",
       "count  7043.000000                 7043.000000  \n",
       "mean     -6.404182                 5720.384481  \n",
       "std       0.322896                 1537.974298  \n",
       "min      -6.914740                 2603.900000  \n",
       "25%      -6.914740                 4509.700000  \n",
       "50%      -6.200000                 5885.100000  \n",
       "75%      -6.200000                 6994.650000  \n",
       "max      -6.200000                 8450.000000  "
      ]
     },
     "execution_count": 9,
     "metadata": {},
     "output_type": "execute_result"
    }
   ],
   "source": [
    "df.describe()"
   ]
  },
  {
   "cell_type": "markdown",
   "metadata": {},
   "source": [
    "#### Dropping Unnecessary Column"
   ]
  },
  {
   "cell_type": "code",
   "execution_count": 10,
   "metadata": {},
   "outputs": [],
   "source": [
    "df = df.drop(['Customer ID', 'Longitude', 'Latitude'], axis=1)"
   ]
  },
  {
   "cell_type": "code",
   "execution_count": 11,
   "metadata": {},
   "outputs": [
    {
     "data": {
      "text/html": [
       "<div>\n",
       "<style scoped>\n",
       "    .dataframe tbody tr th:only-of-type {\n",
       "        vertical-align: middle;\n",
       "    }\n",
       "\n",
       "    .dataframe tbody tr th {\n",
       "        vertical-align: top;\n",
       "    }\n",
       "\n",
       "    .dataframe thead th {\n",
       "        text-align: right;\n",
       "    }\n",
       "</style>\n",
       "<table border=\"1\" class=\"dataframe\">\n",
       "  <thead>\n",
       "    <tr style=\"text-align: right;\">\n",
       "      <th></th>\n",
       "      <th>Tenure Months</th>\n",
       "      <th>Location</th>\n",
       "      <th>Device Class</th>\n",
       "      <th>Games Product</th>\n",
       "      <th>Music Product</th>\n",
       "      <th>Education Product</th>\n",
       "      <th>Call Center</th>\n",
       "      <th>Video Product</th>\n",
       "      <th>Use MyApp</th>\n",
       "      <th>Payment Method</th>\n",
       "      <th>Monthly Purchase (Thou. IDR)</th>\n",
       "      <th>Churn Label</th>\n",
       "      <th>CLTV (Predicted Thou. IDR)</th>\n",
       "    </tr>\n",
       "  </thead>\n",
       "  <tbody>\n",
       "    <tr>\n",
       "      <th>0</th>\n",
       "      <td>2</td>\n",
       "      <td>Jakarta</td>\n",
       "      <td>Mid End</td>\n",
       "      <td>Yes</td>\n",
       "      <td>Yes</td>\n",
       "      <td>No</td>\n",
       "      <td>No</td>\n",
       "      <td>No</td>\n",
       "      <td>No</td>\n",
       "      <td>Digital Wallet</td>\n",
       "      <td>70.005</td>\n",
       "      <td>Yes</td>\n",
       "      <td>4210.7</td>\n",
       "    </tr>\n",
       "    <tr>\n",
       "      <th>1</th>\n",
       "      <td>2</td>\n",
       "      <td>Jakarta</td>\n",
       "      <td>High End</td>\n",
       "      <td>No</td>\n",
       "      <td>No</td>\n",
       "      <td>No</td>\n",
       "      <td>No</td>\n",
       "      <td>No</td>\n",
       "      <td>No</td>\n",
       "      <td>Pulsa</td>\n",
       "      <td>91.910</td>\n",
       "      <td>Yes</td>\n",
       "      <td>3511.3</td>\n",
       "    </tr>\n",
       "    <tr>\n",
       "      <th>2</th>\n",
       "      <td>8</td>\n",
       "      <td>Jakarta</td>\n",
       "      <td>High End</td>\n",
       "      <td>No</td>\n",
       "      <td>No</td>\n",
       "      <td>Yes</td>\n",
       "      <td>No</td>\n",
       "      <td>Yes</td>\n",
       "      <td>Yes</td>\n",
       "      <td>Pulsa</td>\n",
       "      <td>129.545</td>\n",
       "      <td>Yes</td>\n",
       "      <td>6983.6</td>\n",
       "    </tr>\n",
       "  </tbody>\n",
       "</table>\n",
       "</div>"
      ],
      "text/plain": [
       "   Tenure Months Location Device Class Games Product Music Product   \n",
       "0              2  Jakarta      Mid End           Yes           Yes  \\\n",
       "1              2  Jakarta     High End            No            No   \n",
       "2              8  Jakarta     High End            No            No   \n",
       "\n",
       "  Education Product Call Center Video Product Use MyApp  Payment Method   \n",
       "0                No          No            No        No  Digital Wallet  \\\n",
       "1                No          No            No        No           Pulsa   \n",
       "2               Yes          No           Yes       Yes           Pulsa   \n",
       "\n",
       "   Monthly Purchase (Thou. IDR) Churn Label  CLTV (Predicted Thou. IDR)  \n",
       "0                        70.005         Yes                      4210.7  \n",
       "1                        91.910         Yes                      3511.3  \n",
       "2                       129.545         Yes                      6983.6  "
      ]
     },
     "execution_count": 11,
     "metadata": {},
     "output_type": "execute_result"
    }
   ],
   "source": [
    "df.head(3)"
   ]
  },
  {
   "cell_type": "markdown",
   "metadata": {},
   "source": [
    "#### Checking the unique values "
   ]
  },
  {
   "cell_type": "code",
   "execution_count": 12,
   "metadata": {},
   "outputs": [
    {
     "name": "stdout",
     "output_type": "stream",
     "text": [
      "['Jakarta' 'Bandung']\n",
      "['Yes' 'No' 'No internet service']\n",
      "['Yes' 'No' 'No internet service']\n",
      "['No' 'Yes' 'No internet service']\n",
      "['No' 'Yes']\n",
      "['No' 'Yes' 'No internet service']\n",
      "['No' 'Yes' 'No internet service']\n",
      "['Digital Wallet' 'Pulsa' 'Debit' 'Credit']\n",
      "['Yes' 'No']\n"
     ]
    }
   ],
   "source": [
    "columns = ['Location', 'Games Product', 'Music Product', 'Education Product', 'Call Center', 'Video Product', 'Use MyApp', 'Payment Method', 'Churn Label']\n",
    "\n",
    "for column in columns:\n",
    "    print(df[column].unique())"
   ]
  },
  {
   "cell_type": "code",
   "execution_count": 13,
   "metadata": {},
   "outputs": [],
   "source": [
    "columns_replace_val = ['Games Product', 'Music Product', 'Education Product', 'Video Product', 'Use MyApp']\n",
    "\n",
    "for column in columns_replace_val:\n",
    "    df[column] = df[column].replace(['No internet service'], 'No')"
   ]
  },
  {
   "cell_type": "markdown",
   "metadata": {},
   "source": [
    "#### Encoding"
   ]
  },
  {
   "cell_type": "code",
   "execution_count": 14,
   "metadata": {},
   "outputs": [],
   "source": [
    "columns=['Games Product', 'Music Product', 'Education Product', 'Video Product', 'Use MyApp', 'Call Center', 'Churn Label', 'Location', 'Device Class', 'Payment Method']\n",
    "\n",
    "le = LabelEncoder()\n",
    "\n",
    "for column in columns:\n",
    "    df[column] = le.fit_transform(df[column])"
   ]
  },
  {
   "cell_type": "markdown",
   "metadata": {},
   "source": [
    "### Feature Selection"
   ]
  },
  {
   "cell_type": "code",
   "execution_count": 15,
   "metadata": {},
   "outputs": [],
   "source": [
    "X = df.drop(['Churn Label'], axis=1)\n",
    "y = df['Churn Label']\n",
    "\n",
    "X_train, X_test, y_train, y_test = train_test_split(X, y, test_size=0.2, random_state=42)"
   ]
  },
  {
   "cell_type": "markdown",
   "metadata": {},
   "source": [
    "### Standarization"
   ]
  },
  {
   "cell_type": "code",
   "execution_count": 16,
   "metadata": {},
   "outputs": [],
   "source": [
    "scaler = StandardScaler()\n",
    "X_train = scaler.fit_transform(X_train)\n",
    "X_test = scaler.transform(X_test)\t"
   ]
  },
  {
   "cell_type": "markdown",
   "metadata": {},
   "source": [
    "### Hyperparameter Tuning"
   ]
  },
  {
   "cell_type": "code",
   "execution_count": 23,
   "metadata": {},
   "outputs": [],
   "source": [
    "param_grid = {'C': [0.001, 0.01, 0.1, 1, 10, 100]}"
   ]
  },
  {
   "cell_type": "markdown",
   "metadata": {},
   "source": [
    "### Modelling"
   ]
  },
  {
   "cell_type": "code",
   "execution_count": 24,
   "metadata": {},
   "outputs": [],
   "source": [
    "model = LogisticRegression(random_state=42)\n",
    "grid_search = GridSearchCV(model, param_grid, cv=5, scoring='accuracy')\n",
    "grid_search.fit(X_train, y_train)\n",
    "best_params = grid_search.best_params_"
   ]
  },
  {
   "cell_type": "code",
   "execution_count": 25,
   "metadata": {},
   "outputs": [],
   "source": [
    "best_model = grid_search.best_estimator_\n",
    "y_pred_tuned = best_model.predict(X_test)"
   ]
  },
  {
   "cell_type": "markdown",
   "metadata": {},
   "source": [
    "### Evaluate Model"
   ]
  },
  {
   "cell_type": "code",
   "execution_count": 26,
   "metadata": {},
   "outputs": [
    {
     "name": "stdout",
     "output_type": "stream",
     "text": [
      "Accuracy:  0.7835344215755855\n"
     ]
    }
   ],
   "source": [
    "# accuracy = accuracy_score(y_test, y_pred)\n",
    "# confusion_matrix = confusion_matrix(y_test, y_pred)\n",
    "# classification_report = classification_report(y_test, y_pred)\n",
    "\n",
    "# print(\"Accuracy: \", accuracy)\n",
    "# print(\"Confusion Matrix: \\n\", confusion_matrix)\n",
    "# print(\"Classification Report: \\n\", classification_report)\n",
    "\n",
    "accuracy_tuned = accuracy_score(y_test, y_pred)\n",
    "print(\"Accuracy: \", accuracy_tuned)"
   ]
  },
  {
   "cell_type": "markdown",
   "metadata": {},
   "source": [
    "## Neural Network"
   ]
  },
  {
   "cell_type": "code",
   "execution_count": 56,
   "metadata": {},
   "outputs": [],
   "source": [
    "from tensorflow.keras.regularizers import l2\n",
    "from tensorflow.keras.optimizers import RMSprop\n",
    "\n",
    "model = Sequential([\n",
    "    Dense(128, activation='relu', kernel_regularizer=l2(0.01), input_dim=X_train.shape[1]),\n",
    "    Dense(64, activation='relu', kernel_regularizer=l2(0.01)),\n",
    "    Dense(32, activation='relu', kernel_regularizer=l2(0.01)),\n",
    "    Dense(1, activation='sigmoid')\n",
    "])\n",
    "\n",
    "model_NN.compile(loss='binary_crossentropy', optimizer=RMSprop(), metrics=['accuracy'])"
   ]
  },
  {
   "cell_type": "code",
   "execution_count": 58,
   "metadata": {},
   "outputs": [
    {
     "name": "stdout",
     "output_type": "stream",
     "text": [
      "Epoch 1/30\n",
      "141/141 [==============================] - 1s 5ms/step - loss: 0.2294 - accuracy: 0.8966 - val_loss: 0.7751 - val_accuracy: 0.7507 - lr: 0.0010\n",
      "Epoch 2/30\n",
      "141/141 [==============================] - 1s 4ms/step - loss: 0.2296 - accuracy: 0.8973 - val_loss: 0.7919 - val_accuracy: 0.7409 - lr: 0.0010\n",
      "Epoch 3/30\n",
      "141/141 [==============================] - 1s 4ms/step - loss: 0.2294 - accuracy: 0.8966 - val_loss: 0.7667 - val_accuracy: 0.7524 - lr: 0.0010\n",
      "Epoch 4/30\n",
      "141/141 [==============================] - 0s 3ms/step - loss: 0.2307 - accuracy: 0.8982 - val_loss: 0.7754 - val_accuracy: 0.7498 - lr: 0.0010\n",
      "Epoch 5/30\n",
      "141/141 [==============================] - 0s 2ms/step - loss: 0.2373 - accuracy: 0.8973 - val_loss: 0.7515 - val_accuracy: 0.7587 - lr: 0.0010\n",
      "Epoch 6/30\n",
      "141/141 [==============================] - 0s 2ms/step - loss: 0.2395 - accuracy: 0.8928 - val_loss: 0.7569 - val_accuracy: 0.7569 - lr: 0.0010\n",
      "Epoch 7/30\n",
      "141/141 [==============================] - 0s 2ms/step - loss: 0.2337 - accuracy: 0.8955 - val_loss: 0.7523 - val_accuracy: 0.7560 - lr: 0.0010\n",
      "Epoch 8/30\n",
      "141/141 [==============================] - 0s 2ms/step - loss: 0.2295 - accuracy: 0.9010 - val_loss: 0.7515 - val_accuracy: 0.7569 - lr: 0.0010\n",
      "Epoch 9/30\n",
      "141/141 [==============================] - 0s 2ms/step - loss: 0.2307 - accuracy: 0.8955 - val_loss: 0.7758 - val_accuracy: 0.7542 - lr: 0.0010\n",
      "Epoch 10/30\n",
      "141/141 [==============================] - 0s 2ms/step - loss: 0.2237 - accuracy: 0.9010 - val_loss: 0.7707 - val_accuracy: 0.7551 - lr: 0.0010\n",
      "Epoch 11/30\n",
      "141/141 [==============================] - 0s 2ms/step - loss: 0.2269 - accuracy: 0.9006 - val_loss: 0.7539 - val_accuracy: 0.7569 - lr: 0.0010\n",
      "Epoch 12/30\n",
      "141/141 [==============================] - 0s 2ms/step - loss: 0.2218 - accuracy: 0.9057 - val_loss: 0.7898 - val_accuracy: 0.7524 - lr: 0.0010\n",
      "Epoch 13/30\n",
      "141/141 [==============================] - 0s 3ms/step - loss: 0.2405 - accuracy: 0.8933 - val_loss: 0.7677 - val_accuracy: 0.7462 - lr: 0.0010\n",
      "Epoch 14/30\n",
      "141/141 [==============================] - 0s 2ms/step - loss: 0.2200 - accuracy: 0.9035 - val_loss: 0.7870 - val_accuracy: 0.7649 - lr: 0.0010\n",
      "Epoch 15/30\n",
      "141/141 [==============================] - 0s 2ms/step - loss: 0.2357 - accuracy: 0.8962 - val_loss: 0.7542 - val_accuracy: 0.7507 - lr: 0.0010\n",
      "Epoch 16/30\n",
      "141/141 [==============================] - 0s 2ms/step - loss: 0.2277 - accuracy: 0.9019 - val_loss: 0.7565 - val_accuracy: 0.7524 - lr: 0.0010\n",
      "Epoch 17/30\n",
      "141/141 [==============================] - 0s 2ms/step - loss: 0.2332 - accuracy: 0.8970 - val_loss: 0.7393 - val_accuracy: 0.7684 - lr: 0.0010\n",
      "Epoch 18/30\n",
      "141/141 [==============================] - 0s 3ms/step - loss: 0.2243 - accuracy: 0.8995 - val_loss: 0.7462 - val_accuracy: 0.7516 - lr: 0.0010\n",
      "Epoch 19/30\n",
      "141/141 [==============================] - 0s 3ms/step - loss: 0.2259 - accuracy: 0.9037 - val_loss: 0.7653 - val_accuracy: 0.7445 - lr: 0.0010\n",
      "Epoch 20/30\n",
      "141/141 [==============================] - 0s 3ms/step - loss: 0.2333 - accuracy: 0.8957 - val_loss: 0.7513 - val_accuracy: 0.7587 - lr: 0.0010\n",
      "Epoch 21/30\n",
      "141/141 [==============================] - 0s 2ms/step - loss: 0.2263 - accuracy: 0.9084 - val_loss: 0.7583 - val_accuracy: 0.7507 - lr: 0.0010\n",
      "Epoch 22/30\n",
      "141/141 [==============================] - 0s 2ms/step - loss: 0.2348 - accuracy: 0.8977 - val_loss: 0.7451 - val_accuracy: 0.7533 - lr: 0.0010\n",
      "Epoch 23/30\n",
      "141/141 [==============================] - 0s 2ms/step - loss: 0.2309 - accuracy: 0.8955 - val_loss: 0.7766 - val_accuracy: 0.7533 - lr: 0.0010\n",
      "Epoch 24/30\n",
      "141/141 [==============================] - 0s 3ms/step - loss: 0.2281 - accuracy: 0.8924 - val_loss: 0.7763 - val_accuracy: 0.7533 - lr: 0.0010\n",
      "Epoch 25/30\n",
      "141/141 [==============================] - 0s 2ms/step - loss: 0.2289 - accuracy: 0.8984 - val_loss: 0.7543 - val_accuracy: 0.7569 - lr: 0.0010\n",
      "Epoch 26/30\n",
      "141/141 [==============================] - 0s 2ms/step - loss: 0.2250 - accuracy: 0.9044 - val_loss: 0.7625 - val_accuracy: 0.7542 - lr: 0.0010\n",
      "Epoch 27/30\n",
      "141/141 [==============================] - 0s 2ms/step - loss: 0.2369 - accuracy: 0.8897 - val_loss: 0.7610 - val_accuracy: 0.7578 - lr: 0.0010\n",
      "Epoch 28/30\n",
      "141/141 [==============================] - 0s 3ms/step - loss: 0.2269 - accuracy: 0.9013 - val_loss: 0.7520 - val_accuracy: 0.7542 - lr: 0.0010\n",
      "Epoch 29/30\n",
      "141/141 [==============================] - 0s 2ms/step - loss: 0.2165 - accuracy: 0.9055 - val_loss: 0.7622 - val_accuracy: 0.7613 - lr: 0.0010\n",
      "Epoch 30/30\n",
      "141/141 [==============================] - 0s 3ms/step - loss: 0.2230 - accuracy: 0.8997 - val_loss: 0.7695 - val_accuracy: 0.7587 - lr: 0.0010\n",
      "45/45 [==============================] - 0s 1ms/step\n",
      "0.7366926898509581\n"
     ]
    }
   ],
   "source": [
    "from tensorflow.keras.callbacks import ReduceLROnPlateau\n",
    "\n",
    "reduce_lr = ReduceLROnPlateau(monitor='val_loss', factor=0.2, patience=5, min_lr=0.001)\n",
    "model_NN.fit(X_train, y_train, epochs=30, batch_size=32, validation_split=0.2, callbacks=[reduce_lr])\n",
    "\n",
    "y_pred_nn = (model_NN.predict(X_test) > 0.5).astype(int)\n",
    "accuracy_nn = accuracy_score(y_test, y_pred_nn)\n",
    "print(accuracy_nn)"
   ]
  },
  {
   "cell_type": "code",
   "execution_count": 59,
   "metadata": {},
   "outputs": [
    {
     "name": "stdout",
     "output_type": "stream",
     "text": [
      "45/45 [==============================] - 0s 2ms/step\n",
      "Neural Network Accuracy: 0.74\n"
     ]
    }
   ],
   "source": [
    "y_pred_nn = (model_NN.predict(X_test) > 0.5).astype(int)  # Convert probabilities to binary predictions\n",
    "accuracy_nn = accuracy_score(y_test, y_pred_nn)\n",
    "print(f\"Neural Network Accuracy: {accuracy_nn:.2f}\")"
   ]
  }
 ],
 "metadata": {
  "kernelspec": {
   "display_name": "Python 3",
   "language": "python",
   "name": "python3"
  },
  "language_info": {
   "codemirror_mode": {
    "name": "ipython",
    "version": 3
   },
   "file_extension": ".py",
   "mimetype": "text/x-python",
   "name": "python",
   "nbconvert_exporter": "python",
   "pygments_lexer": "ipython3",
   "version": "3.10.12"
  }
 },
 "nbformat": 4,
 "nbformat_minor": 2
}
